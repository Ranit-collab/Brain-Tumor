{
 "cells": [
  {
   "cell_type": "code",
   "execution_count": 21,
   "metadata": {
    "collapsed": true,
    "execution": {
     "iopub.execute_input": "2021-11-10T16:33:10.011069Z",
     "iopub.status.busy": "2021-11-10T16:33:10.010700Z",
     "iopub.status.idle": "2021-11-10T16:33:10.859756Z",
     "shell.execute_reply": "2021-11-10T16:33:10.858573Z",
     "shell.execute_reply.started": "2021-11-10T16:33:10.011032Z"
    },
    "jupyter": {
     "outputs_hidden": true
    }
   },
   "outputs": [],
   "source": [
    "import matplotlib.pyplot as plt\n",
    "import numpy as np\n",
    "import pandas as pd\n",
    "import seaborn as sns\n",
    "import cv2\n",
    "import tensorflow as tf\n",
    "from tensorflow.keras.preprocessing.image import ImageDataGenerator\n",
    "from tqdm import tqdm\n",
    "import os\n",
    "from sklearn.utils import shuffle\n",
    "from sklearn.model_selection import train_test_split\n",
    "from tensorflow.keras.applications import EfficientNetB0\n",
    "from tensorflow.keras.callbacks import EarlyStopping, ReduceLROnPlateau, TensorBoard, ModelCheckpoint\n",
    "from sklearn.metrics import classification_report,confusion_matrix\n",
    "import ipywidgets as widgets\n",
    "import io\n",
    "from PIL import Image\n",
    "from IPython.display import display,clear_output\n",
    "from warnings import filterwarnings\n",
    "for dirname, _, filenames in os.walk('/kaggle/input'):\n",
    "    for filename in filenames:\n",
    "        print(os.path.join(dirname, filename))"
   ]
  },
  {
   "cell_type": "code",
   "execution_count": 2,
   "metadata": {
    "execution": {
     "iopub.execute_input": "2021-11-10T13:43:19.105422Z",
     "iopub.status.busy": "2021-11-10T13:43:19.105168Z",
     "iopub.status.idle": "2021-11-10T13:43:19.344523Z",
     "shell.execute_reply": "2021-11-10T13:43:19.343643Z",
     "shell.execute_reply.started": "2021-11-10T13:43:19.105390Z"
    }
   },
   "outputs": [],
   "source": [
    "colors_dark = [\"#1F1F1F\", \"#313131\", '#636363', '#AEAEAE', '#DADADA']\n",
    "colors_red = [\"#331313\", \"#582626\", '#9E1717', '#D35151', '#E9B4B4']\n",
    "colors_green = ['#01411C','#4B6F44','#4F7942','#74C365','#D0F0C0']\n",
    "\n",
    "sns.palplot(colors_dark)\n",
    "sns.palplot(colors_green)\n",
    "sns.palplot(colors_red)"
   ]
  },
  {
   "cell_type": "code",
   "execution_count": 3,
   "metadata": {
    "execution": {
     "iopub.execute_input": "2021-11-10T13:43:19.346453Z",
     "iopub.status.busy": "2021-11-10T13:43:19.346137Z",
     "iopub.status.idle": "2021-11-10T13:43:19.350725Z",
     "shell.execute_reply": "2021-11-10T13:43:19.349931Z",
     "shell.execute_reply.started": "2021-11-10T13:43:19.346410Z"
    }
   },
   "outputs": [],
   "source": [
    "labels = ['glioma_tumor','no_tumor','meningioma_tumor','pituitary_tumor']"
   ]
  },
  {
   "cell_type": "code",
   "execution_count": 4,
   "metadata": {
    "execution": {
     "iopub.execute_input": "2021-11-10T13:43:19.352913Z",
     "iopub.status.busy": "2021-11-10T13:43:19.352687Z",
     "iopub.status.idle": "2021-11-10T13:43:48.699396Z",
     "shell.execute_reply": "2021-11-10T13:43:48.698507Z",
     "shell.execute_reply.started": "2021-11-10T13:43:19.352886Z"
    }
   },
   "outputs": [],
   "source": [
    "X_train = []\n",
    "y_train = []\n",
    "image_size = 128\n",
    "for i in labels:\n",
    "    folderPath = os.path.join('../input/brain-tumor-classification-mri','Training',i)\n",
    "    for j in tqdm(os.listdir(folderPath)):\n",
    "        img = cv2.imread(os.path.join(folderPath,j))\n",
    "        img = cv2.resize(img,(image_size, image_size))\n",
    "        X_train.append(img)\n",
    "        y_train.append(i)\n",
    "        \n",
    "        \n",
    "for i in labels:\n",
    "    folderPath = os.path.join('../input/brain-tumor-classification-mri','Testing',i)\n",
    "    for j in tqdm(os.listdir(folderPath)):\n",
    "        img = cv2.imread(os.path.join(folderPath,j))\n",
    "        img = cv2.resize(img,(image_size,image_size))\n",
    "        X_train.append(img)\n",
    "        y_train.append(i)\n",
    "        \n",
    "X_train = np.array(X_train)\n",
    "y_train = np.array(y_train)"
   ]
  },
  {
   "cell_type": "code",
   "execution_count": 5,
   "metadata": {
    "execution": {
     "iopub.execute_input": "2021-11-10T13:43:48.700899Z",
     "iopub.status.busy": "2021-11-10T13:43:48.700660Z",
     "iopub.status.idle": "2021-11-10T13:43:49.183810Z",
     "shell.execute_reply": "2021-11-10T13:43:49.182925Z",
     "shell.execute_reply.started": "2021-11-10T13:43:48.700871Z"
    }
   },
   "outputs": [],
   "source": [
    "k=0\n",
    "fig, ax = plt.subplots(1,4,figsize=(20,20))\n",
    "fig.text(s='Sample Image From Each Label',size=18,fontweight='bold',\n",
    "             fontname='monospace',color=colors_dark[1],y=0.62,x=0.4,alpha=0.8)\n",
    "for i in labels:\n",
    "    j=0\n",
    "    while True :\n",
    "        if y_train[j]==i:\n",
    "            ax[k].imshow(X_train[j])\n",
    "            ax[k].set_title(y_train[j])\n",
    "            ax[k].axis('off')\n",
    "            k+=1\n",
    "            break\n",
    "        j+=1"
   ]
  },
  {
   "cell_type": "code",
   "execution_count": 6,
   "metadata": {
    "execution": {
     "iopub.execute_input": "2021-11-10T13:43:49.185767Z",
     "iopub.status.busy": "2021-11-10T13:43:49.185455Z",
     "iopub.status.idle": "2021-11-10T13:43:49.256878Z",
     "shell.execute_reply": "2021-11-10T13:43:49.256024Z",
     "shell.execute_reply.started": "2021-11-10T13:43:49.185724Z"
    }
   },
   "outputs": [],
   "source": [
    "X_train, y_train = shuffle(X_train,y_train, random_state=101)"
   ]
  },
  {
   "cell_type": "code",
   "execution_count": 7,
   "metadata": {
    "execution": {
     "iopub.execute_input": "2021-11-10T13:43:49.258184Z",
     "iopub.status.busy": "2021-11-10T13:43:49.257974Z",
     "iopub.status.idle": "2021-11-10T13:43:49.264562Z",
     "shell.execute_reply": "2021-11-10T13:43:49.263809Z",
     "shell.execute_reply.started": "2021-11-10T13:43:49.258159Z"
    }
   },
   "outputs": [],
   "source": [
    "X_train.shape"
   ]
  },
  {
   "cell_type": "code",
   "execution_count": 8,
   "metadata": {
    "execution": {
     "iopub.execute_input": "2021-11-10T13:43:49.266021Z",
     "iopub.status.busy": "2021-11-10T13:43:49.265778Z",
     "iopub.status.idle": "2021-11-10T13:43:49.785848Z",
     "shell.execute_reply": "2021-11-10T13:43:49.785028Z",
     "shell.execute_reply.started": "2021-11-10T13:43:49.265988Z"
    }
   },
   "outputs": [],
   "source": [
    "datagen = ImageDataGenerator(\n",
    "    rotation_range=30,\n",
    "    width_shift_range=0.1,\n",
    "    height_shift_range=0.1,\n",
    "    zoom_range=0.2,\n",
    "    horizontal_flip=True)\n",
    "\n",
    "datagen.fit(X_train)\n",
    "X_train.shape"
   ]
  },
  {
   "cell_type": "code",
   "execution_count": 9,
   "metadata": {
    "execution": {
     "iopub.execute_input": "2021-11-10T13:43:49.787290Z",
     "iopub.status.busy": "2021-11-10T13:43:49.787067Z",
     "iopub.status.idle": "2021-11-10T13:43:49.829563Z",
     "shell.execute_reply": "2021-11-10T13:43:49.828686Z",
     "shell.execute_reply.started": "2021-11-10T13:43:49.787262Z"
    }
   },
   "outputs": [],
   "source": [
    "X_train,X_test,y_train,y_test = train_test_split(X_train,y_train, test_size=0.1,random_state=101)"
   ]
  },
  {
   "cell_type": "code",
   "execution_count": 10,
   "metadata": {
    "execution": {
     "iopub.execute_input": "2021-11-10T13:43:49.832519Z",
     "iopub.status.busy": "2021-11-10T13:43:49.832194Z",
     "iopub.status.idle": "2021-11-10T13:43:49.842811Z",
     "shell.execute_reply": "2021-11-10T13:43:49.842018Z",
     "shell.execute_reply.started": "2021-11-10T13:43:49.832484Z"
    }
   },
   "outputs": [],
   "source": [
    "y_train_new = []\n",
    "for i in y_train:\n",
    "    y_train_new.append(labels.index(i))\n",
    "y_train = y_train_new\n",
    "y_train = tf.keras.utils.to_categorical(y_train)\n",
    "\n",
    "\n",
    "y_test_new = []\n",
    "for i in y_test:\n",
    "    y_test_new.append(labels.index(i))\n",
    "y_test = y_test_new\n",
    "y_test = tf.keras.utils.to_categorical(y_test)"
   ]
  },
  {
   "cell_type": "code",
   "execution_count": 11,
   "metadata": {
    "collapsed": true,
    "execution": {
     "iopub.execute_input": "2021-11-10T13:43:49.844601Z",
     "iopub.status.busy": "2021-11-10T13:43:49.844235Z",
     "iopub.status.idle": "2021-11-10T13:43:57.013574Z",
     "shell.execute_reply": "2021-11-10T13:43:57.012644Z",
     "shell.execute_reply.started": "2021-11-10T13:43:49.844558Z"
    },
    "jupyter": {
     "outputs_hidden": true
    }
   },
   "outputs": [],
   "source": [
    "import warnings\n",
    "filterwarnings('ignore')\n",
    "from tensorflow.keras.applications import ResNet152V2\n",
    "resnet = ResNet152V2(weights='imagenet', include_top=False,input_shape=(image_size,image_size,3))"
   ]
  },
  {
   "cell_type": "code",
   "execution_count": 12,
   "metadata": {
    "execution": {
     "iopub.execute_input": "2021-11-10T13:43:57.016101Z",
     "iopub.status.busy": "2021-11-10T13:43:57.015159Z",
     "iopub.status.idle": "2021-11-10T13:43:57.076055Z",
     "shell.execute_reply": "2021-11-10T13:43:57.075412Z",
     "shell.execute_reply.started": "2021-11-10T13:43:57.016059Z"
    }
   },
   "outputs": [],
   "source": [
    "model = resnet.output\n",
    "model = tf.keras.layers.GlobalAveragePooling2D()(model)\n",
    "model = tf.keras.layers.Dropout(rate=0.2)(model)\n",
    "model = tf.keras.layers.Dense(4,activation='softmax')(model)\n",
    "model = tf.keras.models.Model(inputs=resnet.input, outputs = model)"
   ]
  },
  {
   "cell_type": "code",
   "execution_count": 13,
   "metadata": {
    "collapsed": true,
    "execution": {
     "iopub.execute_input": "2021-11-10T13:43:57.077427Z",
     "iopub.status.busy": "2021-11-10T13:43:57.077107Z",
     "iopub.status.idle": "2021-11-10T13:43:57.302511Z",
     "shell.execute_reply": "2021-11-10T13:43:57.301343Z",
     "shell.execute_reply.started": "2021-11-10T13:43:57.077400Z"
    },
    "jupyter": {
     "outputs_hidden": true
    }
   },
   "outputs": [],
   "source": [
    "model.summary()"
   ]
  },
  {
   "cell_type": "code",
   "execution_count": 14,
   "metadata": {
    "execution": {
     "iopub.execute_input": "2021-11-10T13:43:57.303891Z",
     "iopub.status.busy": "2021-11-10T13:43:57.303645Z",
     "iopub.status.idle": "2021-11-10T13:43:57.331056Z",
     "shell.execute_reply": "2021-11-10T13:43:57.330056Z",
     "shell.execute_reply.started": "2021-11-10T13:43:57.303859Z"
    }
   },
   "outputs": [],
   "source": [
    "model.compile(loss='categorical_crossentropy',optimizer = 'Adam', metrics= ['accuracy'])"
   ]
  },
  {
   "cell_type": "code",
   "execution_count": 15,
   "metadata": {
    "execution": {
     "iopub.execute_input": "2021-11-10T13:43:57.332853Z",
     "iopub.status.busy": "2021-11-10T13:43:57.332364Z",
     "iopub.status.idle": "2021-11-10T13:43:57.342225Z",
     "shell.execute_reply": "2021-11-10T13:43:57.341573Z",
     "shell.execute_reply.started": "2021-11-10T13:43:57.332807Z"
    }
   },
   "outputs": [],
   "source": [
    "tensorboard = TensorBoard(log_dir = 'logs')\n",
    "checkpoint = ModelCheckpoint(\"resnet152v1.h5\",monitor=\"val_accuracy\",save_best_only=True,mode=\"auto\",verbose=1)\n",
    "reduce_lr = ReduceLROnPlateau(monitor = 'val_accuracy', factor = 0.4, patience = 2, min_delta = 0.001,\n",
    "                              mode='auto',verbose=1)"
   ]
  },
  {
   "cell_type": "code",
   "execution_count": 16,
   "metadata": {
    "execution": {
     "iopub.execute_input": "2021-11-10T13:43:57.343648Z",
     "iopub.status.busy": "2021-11-10T13:43:57.343292Z",
     "iopub.status.idle": "2021-11-10T15:51:29.140330Z",
     "shell.execute_reply": "2021-11-10T15:51:29.139030Z",
     "shell.execute_reply.started": "2021-11-10T13:43:57.343613Z"
    }
   },
   "outputs": [],
   "source": [
    "history = model.fit(X_train,y_train,validation_split=0.1, epochs =12, verbose=1, batch_size=32,\n",
    "                   callbacks=[tensorboard,checkpoint,reduce_lr])"
   ]
  },
  {
   "cell_type": "code",
   "execution_count": 17,
   "metadata": {
    "execution": {
     "iopub.execute_input": "2021-11-10T15:51:29.144644Z",
     "iopub.status.busy": "2021-11-10T15:51:29.144099Z",
     "iopub.status.idle": "2021-11-10T15:51:29.635911Z",
     "shell.execute_reply": "2021-11-10T15:51:29.634845Z",
     "shell.execute_reply.started": "2021-11-10T15:51:29.144587Z"
    }
   },
   "outputs": [],
   "source": [
    "filterwarnings('ignore')\n",
    "\n",
    "epochs = [i for i in range(12)]\n",
    "fig, ax = plt.subplots(1,2,figsize=(14,7))\n",
    "# plt.setp(ax, xticks=[0, 0.1, 0.2, 0.3, 0.4, 0.5, 0.6, 0.7, 0.8, 0.9, 1],\n",
    "#          yticks=[0, 1, 2, 3, 4, 5, 6, 7, 8, 9, 10, 11, 12])\n",
    "# plt.sca(ax[0])\n",
    "# plt.xticks(range(13), [0, 1, 2, 3, 4, 5, 6, 7, 8, 9, 10,11,12], color='red')\n",
    "# plt.yticks(range(11), [0, 0.1, 0.2, 0.3, 0.4, 0.5, 0.6, 0.7, 0.8, 0.9,1], color='red')\n",
    "\n",
    "# plt.sca(ax[1])\n",
    "# plt.xticks(range(13), [0, 1, 2, 3, 4, 5, 6, 7, 8, 9, 10,11,12], color='red')\n",
    "# plt.yticks(range(11), [0, 0.1, 0.2, 0.3, 0.4, 0.5, 0.6, 0.7, 0.8, 0.9,1], color='red')\n",
    "plt.sca(ax[0])\n",
    "plt.yticks(np.arange(0, 1.1, 0.1))\n",
    "\n",
    "train_acc = history.history['accuracy']\n",
    "train_loss = history.history['loss']\n",
    "val_acc = history.history['val_accuracy']\n",
    "val_loss = history.history['val_loss']\n",
    "\n",
    "fig.text(s='Epochs vs. Training and Validation Accuracy/Loss',size=18,fontweight='bold',\n",
    "             fontname='monospace',color='black',y=1,x=0.28,alpha=0.8)\n",
    "\n",
    "sns.despine()\n",
    "ax[0].plot(epochs, train_acc, marker='o',markerfacecolor='green',color='green',\n",
    "           label = 'Training Accuracy')\n",
    "ax[0].plot(epochs, val_acc, marker='o',markerfacecolor='red',color='red',\n",
    "           label = 'Validation Accuracy')\n",
    "ax[0].legend(frameon=False)\n",
    "ax[0].set_xlabel('Epochs')\n",
    "ax[0].set_ylabel('Accuracy')\n",
    "\n",
    "# plt.sca(ax[0])\n",
    "# plt.xticks(range(11), [0, 1, 2, 3, 4, 5, 6, 7, 8, 9, 10], color='red')\n",
    "# plt.sca(ax[0])\n",
    "# plt.yticks(range(11), [0, 0.1, 0.2, 0.3, 0.4, 0.5, 0.6, 0.7, 0.8, 0.9,1], color='red')\n",
    "\n",
    "\n",
    "sns.despine()\n",
    "ax[1].plot(epochs, train_loss, marker='o',markerfacecolor='green',color='green',\n",
    "           label ='Training Loss')\n",
    "ax[1].plot(epochs, val_loss, marker='o',markerfacecolor='red',color='red',\n",
    "           label = 'Validation Loss')\n",
    "ax[1].legend(frameon=False)\n",
    "ax[1].set_xlabel('Epochs')\n",
    "ax[1].set_ylabel('Training & Validation Loss')\n",
    "\n",
    "plt.ylim([0,1])\n",
    "plt.sca(ax[1])\n",
    "plt.yticks(np.arange(0, 1.1, 0.1))\n",
    "\n",
    "fig.show()"
   ]
  },
  {
   "cell_type": "code",
   "execution_count": 18,
   "metadata": {
    "execution": {
     "iopub.execute_input": "2021-11-10T15:51:29.637728Z",
     "iopub.status.busy": "2021-11-10T15:51:29.637404Z",
     "iopub.status.idle": "2021-11-10T15:51:54.523577Z",
     "shell.execute_reply": "2021-11-10T15:51:54.522566Z",
     "shell.execute_reply.started": "2021-11-10T15:51:29.637683Z"
    }
   },
   "outputs": [],
   "source": [
    "pred = model.predict(X_test)\n",
    "pred = np.argmax(pred,axis=1)\n",
    "y_test_new = np.argmax(y_test,axis=1)"
   ]
  },
  {
   "cell_type": "code",
   "execution_count": 19,
   "metadata": {
    "execution": {
     "iopub.execute_input": "2021-11-10T15:51:54.525580Z",
     "iopub.status.busy": "2021-11-10T15:51:54.525089Z",
     "iopub.status.idle": "2021-11-10T15:51:54.535371Z",
     "shell.execute_reply": "2021-11-10T15:51:54.534688Z",
     "shell.execute_reply.started": "2021-11-10T15:51:54.525530Z"
    }
   },
   "outputs": [],
   "source": [
    "print(classification_report(y_test_new,pred))"
   ]
  },
  {
   "cell_type": "code",
   "execution_count": 20,
   "metadata": {
    "execution": {
     "iopub.execute_input": "2021-11-10T15:51:54.537044Z",
     "iopub.status.busy": "2021-11-10T15:51:54.536665Z",
     "iopub.status.idle": "2021-11-10T15:51:54.937878Z",
     "shell.execute_reply": "2021-11-10T15:51:54.937005Z",
     "shell.execute_reply.started": "2021-11-10T15:51:54.537013Z"
    }
   },
   "outputs": [],
   "source": [
    "fig,ax=plt.subplots(1,1,figsize=(14,7))\n",
    "sns.heatmap(confusion_matrix(y_test_new,pred),ax=ax,xticklabels=labels,yticklabels=labels,annot=True,\n",
    "           cmap=colors_green[::-1],alpha=0.7,linewidths=2,linecolor=colors_dark[3])\n",
    "fig.text(s='Heatmap of the Confusion Matrix',size=18,fontweight='bold',\n",
    "             fontname='monospace',color=colors_dark[1],y=0.92,x=0.28,alpha=0.8)"
   ]
  },
  {
   "cell_type": "code",
   "execution_count": 22,
   "metadata": {
    "execution": {
     "iopub.execute_input": "2021-11-10T16:33:27.774429Z",
     "iopub.status.busy": "2021-11-10T16:33:27.774127Z",
     "iopub.status.idle": "2021-11-10T16:33:27.799424Z",
     "shell.execute_reply": "2021-11-10T16:33:27.798494Z",
     "shell.execute_reply.started": "2021-11-10T16:33:27.774385Z"
    }
   },
   "outputs": [],
   "source": [
    "#Creating empty DataFrame for holding models information\n",
    "cols = ['Type', 'Precision', 'Recall', 'F1 Score', 'Support', 'Accuracy percent']\n",
    "model_results = pd.DataFrame(columns = cols)"
   ]
  },
  {
   "cell_type": "code",
   "execution_count": 23,
   "metadata": {
    "execution": {
     "iopub.execute_input": "2021-11-10T16:34:47.793857Z",
     "iopub.status.busy": "2021-11-10T16:34:47.793519Z",
     "iopub.status.idle": "2021-11-10T16:34:47.851692Z",
     "shell.execute_reply": "2021-11-10T16:34:47.851012Z",
     "shell.execute_reply.started": "2021-11-10T16:34:47.793827Z"
    }
   },
   "outputs": [],
   "source": [
    "model_results.loc[-1] = [\"Glioma Tumor\", 0.94,      0.88,      0.91,        93, 88.17]\n",
    "model_results.index = model_results.index + 1  # shifting index\n",
    "model_results = model_results.sort_index()  # sorting by index\n",
    "model_results"
   ]
  },
  {
   "cell_type": "code",
   "execution_count": 24,
   "metadata": {
    "execution": {
     "iopub.execute_input": "2021-11-10T16:35:39.735059Z",
     "iopub.status.busy": "2021-11-10T16:35:39.734486Z",
     "iopub.status.idle": "2021-11-10T16:35:39.758675Z",
     "shell.execute_reply": "2021-11-10T16:35:39.758010Z",
     "shell.execute_reply.started": "2021-11-10T16:35:39.735020Z"
    }
   },
   "outputs": [],
   "source": [
    "model_results.loc[-1] = [\"No Tumor\", 0.92,      0.92,      0.92,        51, 92.15]\n",
    "model_results.index = model_results.index + 1  # shifting index\n",
    "model_results = model_results.sort_index()  # sorting by index\n",
    "model_results"
   ]
  },
  {
   "cell_type": "code",
   "execution_count": 25,
   "metadata": {
    "execution": {
     "iopub.execute_input": "2021-11-10T16:38:58.734787Z",
     "iopub.status.busy": "2021-11-10T16:38:58.734425Z",
     "iopub.status.idle": "2021-11-10T16:38:58.759301Z",
     "shell.execute_reply": "2021-11-10T16:38:58.758273Z",
     "shell.execute_reply.started": "2021-11-10T16:38:58.734746Z"
    }
   },
   "outputs": [],
   "source": [
    "model_results.loc[-1] = [\"Meningioma Tumor\", 0.93,      0.94,      0.93,        96, 93.75]\n",
    "model_results.index = model_results.index + 1  # shifting index\n",
    "model_results = model_results.sort_index()  # sorting by index\n",
    "model_results"
   ]
  },
  {
   "cell_type": "code",
   "execution_count": 26,
   "metadata": {
    "execution": {
     "iopub.execute_input": "2021-11-10T16:40:08.238508Z",
     "iopub.status.busy": "2021-11-10T16:40:08.238184Z",
     "iopub.status.idle": "2021-11-10T16:40:08.259846Z",
     "shell.execute_reply": "2021-11-10T16:40:08.259016Z",
     "shell.execute_reply.started": "2021-11-10T16:40:08.238476Z"
    }
   },
   "outputs": [],
   "source": [
    "model_results.loc[-1] = [\"Meningioma Tumor\", 0.95,      1.00,      0.97,        87, 100.00]\n",
    "model_results.index = model_results.index + 1  # shifting index\n",
    "model_results = model_results.sort_index()  # sorting by index\n",
    "model_results"
   ]
  },
  {
   "cell_type": "code",
   "execution_count": 27,
   "metadata": {
    "execution": {
     "iopub.execute_input": "2021-11-10T16:40:29.701397Z",
     "iopub.status.busy": "2021-11-10T16:40:29.701105Z",
     "iopub.status.idle": "2021-11-10T16:40:29.717511Z",
     "shell.execute_reply": "2021-11-10T16:40:29.716644Z",
     "shell.execute_reply.started": "2021-11-10T16:40:29.701365Z"
    }
   },
   "outputs": [],
   "source": [
    "model_results.set_index('Type')"
   ]
  }
 ],
 "metadata": {
  "kernelspec": {
   "display_name": "Python 3 (ipykernel)",
   "language": "python",
   "name": "python3"
  },
  "language_info": {
   "codemirror_mode": {
    "name": "ipython",
    "version": 3
   },
   "file_extension": ".py",
   "mimetype": "text/x-python",
   "name": "python",
   "nbconvert_exporter": "python",
   "pygments_lexer": "ipython3",
   "version": "3.9.7"
  }
 },
 "nbformat": 4,
 "nbformat_minor": 4
}
