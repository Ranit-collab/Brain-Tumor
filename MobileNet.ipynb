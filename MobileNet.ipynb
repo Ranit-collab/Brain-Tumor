{
 "cells": [
  {
   "cell_type": "code",
   "execution_count": 1,
   "metadata": {
    "collapsed": true,
    "execution": {
     "iopub.execute_input": "2021-11-15T06:08:16.058006Z",
     "iopub.status.busy": "2021-11-15T06:08:16.057332Z",
     "iopub.status.idle": "2021-11-15T06:08:23.499882Z",
     "shell.execute_reply": "2021-11-15T06:08:23.497947Z",
     "shell.execute_reply.started": "2021-11-15T06:08:16.057846Z"
    },
    "jupyter": {
     "outputs_hidden": true
    }
   },
   "outputs": [],
   "source": [
    "import matplotlib.pyplot as plt\n",
    "import numpy as np\n",
    "import pandas as pd\n",
    "import seaborn as sns\n",
    "import cv2\n",
    "import tensorflow as tf\n",
    "from tensorflow.keras.preprocessing.image import ImageDataGenerator\n",
    "from tqdm import tqdm\n",
    "import os\n",
    "from sklearn.utils import shuffle\n",
    "from sklearn.model_selection import train_test_split\n",
    "from tensorflow.keras.applications import EfficientNetB0\n",
    "from tensorflow.keras.callbacks import EarlyStopping, ReduceLROnPlateau, TensorBoard, ModelCheckpoint\n",
    "from sklearn.metrics import classification_report,confusion_matrix\n",
    "import ipywidgets as widgets\n",
    "import io\n",
    "from PIL import Image\n",
    "from IPython.display import display,clear_output\n",
    "from warnings import filterwarnings\n",
    "for dirname, _, filenames in os.walk('/kaggle/input'):\n",
    "    for filename in filenames:\n",
    "        print(os.path.join(dirname, filename))"
   ]
  },
  {
   "cell_type": "code",
   "execution_count": 2,
   "metadata": {
    "execution": {
     "iopub.execute_input": "2021-11-15T06:08:23.501780Z",
     "iopub.status.busy": "2021-11-15T06:08:23.501439Z",
     "iopub.status.idle": "2021-11-15T06:08:23.890822Z",
     "shell.execute_reply": "2021-11-15T06:08:23.890004Z",
     "shell.execute_reply.started": "2021-11-15T06:08:23.501745Z"
    }
   },
   "outputs": [],
   "source": [
    "colors_dark = [\"#1F1F1F\", \"#313131\", '#636363', '#AEAEAE', '#DADADA']\n",
    "colors_red = [\"#331313\", \"#582626\", '#9E1717', '#D35151', '#E9B4B4']\n",
    "colors_green = ['#01411C','#4B6F44','#4F7942','#74C365','#D0F0C0']\n",
    "\n",
    "sns.palplot(colors_dark)\n",
    "sns.palplot(colors_green)\n",
    "sns.palplot(colors_red)"
   ]
  },
  {
   "cell_type": "code",
   "execution_count": 3,
   "metadata": {
    "execution": {
     "iopub.execute_input": "2021-11-15T06:08:23.892194Z",
     "iopub.status.busy": "2021-11-15T06:08:23.891959Z",
     "iopub.status.idle": "2021-11-15T06:08:23.896293Z",
     "shell.execute_reply": "2021-11-15T06:08:23.895510Z",
     "shell.execute_reply.started": "2021-11-15T06:08:23.892167Z"
    }
   },
   "outputs": [],
   "source": [
    "labels = ['glioma_tumor','no_tumor','meningioma_tumor','pituitary_tumor']"
   ]
  },
  {
   "cell_type": "code",
   "execution_count": 4,
   "metadata": {
    "execution": {
     "iopub.execute_input": "2021-11-15T06:08:23.898356Z",
     "iopub.status.busy": "2021-11-15T06:08:23.898131Z",
     "iopub.status.idle": "2021-11-15T06:09:02.388866Z",
     "shell.execute_reply": "2021-11-15T06:09:02.387979Z",
     "shell.execute_reply.started": "2021-11-15T06:08:23.898331Z"
    }
   },
   "outputs": [],
   "source": [
    "X_train = []\n",
    "y_train = []\n",
    "image_size = 128\n",
    "for i in labels:\n",
    "    folderPath = os.path.join('../input/brain-tumor-classification-mri','Training',i)\n",
    "    for j in tqdm(os.listdir(folderPath)):\n",
    "        img = cv2.imread(os.path.join(folderPath,j))\n",
    "        img = cv2.resize(img,(image_size, image_size))\n",
    "        X_train.append(img)\n",
    "        y_train.append(i)\n",
    "        \n",
    "        \n",
    "for i in labels:\n",
    "    folderPath = os.path.join('../input/brain-tumor-classification-mri','Testing',i)\n",
    "    for j in tqdm(os.listdir(folderPath)):\n",
    "        img = cv2.imread(os.path.join(folderPath,j))\n",
    "        img = cv2.resize(img,(image_size,image_size))\n",
    "        X_train.append(img)\n",
    "        y_train.append(i)\n",
    "        \n",
    "X_train = np.array(X_train)"
   ]
  },
  {
   "cell_type": "code",
   "execution_count": 5,
   "metadata": {
    "execution": {
     "iopub.execute_input": "2021-11-15T06:09:02.390556Z",
     "iopub.status.busy": "2021-11-15T06:09:02.390320Z",
     "iopub.status.idle": "2021-11-15T06:09:02.857228Z",
     "shell.execute_reply": "2021-11-15T06:09:02.856329Z",
     "shell.execute_reply.started": "2021-11-15T06:09:02.390529Z"
    }
   },
   "outputs": [],
   "source": [
    "k=0\n",
    "fig, ax = plt.subplots(1,4,figsize=(20,20))\n",
    "fig.text(s='Sample Image From Each Label',size=18,fontweight='bold',\n",
    "             fontname='monospace',color=colors_dark[1],y=0.62,x=0.4,alpha=0.8)\n",
    "for i in labels:\n",
    "    j=0\n",
    "    while True :\n",
    "        if y_train[j]==i:\n",
    "            ax[k].imshow(X_train[j])\n",
    "            ax[k].set_title(y_train[j])\n",
    "            ax[k].axis('off')\n",
    "            k+=1\n",
    "            break\n",
    "        j+=1"
   ]
  },
  {
   "cell_type": "code",
   "execution_count": 6,
   "metadata": {
    "execution": {
     "iopub.execute_input": "2021-11-15T06:09:02.858603Z",
     "iopub.status.busy": "2021-11-15T06:09:02.858361Z",
     "iopub.status.idle": "2021-11-15T06:09:02.931611Z",
     "shell.execute_reply": "2021-11-15T06:09:02.930709Z",
     "shell.execute_reply.started": "2021-11-15T06:09:02.858576Z"
    }
   },
   "outputs": [],
   "source": [
    "X_train, y_train = shuffle(X_train,y_train, random_state=101)"
   ]
  },
  {
   "cell_type": "code",
   "execution_count": 7,
   "metadata": {
    "execution": {
     "iopub.execute_input": "2021-11-15T06:09:02.933057Z",
     "iopub.status.busy": "2021-11-15T06:09:02.932817Z",
     "iopub.status.idle": "2021-11-15T06:09:03.429501Z",
     "shell.execute_reply": "2021-11-15T06:09:03.428590Z",
     "shell.execute_reply.started": "2021-11-15T06:09:02.933030Z"
    }
   },
   "outputs": [],
   "source": [
    "datagen = ImageDataGenerator(\n",
    "    rotation_range=30,\n",
    "    width_shift_range=0.1,\n",
    "    height_shift_range=0.1,\n",
    "    zoom_range=0.2,\n",
    "    horizontal_flip=True)\n",
    "\n",
    "datagen.fit(X_train)\n",
    "X_train.shape"
   ]
  },
  {
   "cell_type": "code",
   "execution_count": 8,
   "metadata": {
    "execution": {
     "iopub.execute_input": "2021-11-15T06:09:03.430905Z",
     "iopub.status.busy": "2021-11-15T06:09:03.430647Z",
     "iopub.status.idle": "2021-11-15T06:09:03.485474Z",
     "shell.execute_reply": "2021-11-15T06:09:03.484634Z",
     "shell.execute_reply.started": "2021-11-15T06:09:03.430878Z"
    }
   },
   "outputs": [],
   "source": [
    "X_train,X_test,y_train,y_test = train_test_split(X_train,y_train, test_size=0.1,random_state=101)"
   ]
  },
  {
   "cell_type": "code",
   "execution_count": 9,
   "metadata": {
    "execution": {
     "iopub.execute_input": "2021-11-15T06:09:03.487043Z",
     "iopub.status.busy": "2021-11-15T06:09:03.486758Z",
     "iopub.status.idle": "2021-11-15T06:09:03.494860Z",
     "shell.execute_reply": "2021-11-15T06:09:03.494225Z",
     "shell.execute_reply.started": "2021-11-15T06:09:03.487014Z"
    }
   },
   "outputs": [],
   "source": [
    "y_train_new = []\n",
    "for i in y_train:\n",
    "    y_train_new.append(labels.index(i))\n",
    "y_train = y_train_new\n",
    "y_train = tf.keras.utils.to_categorical(y_train)\n",
    "\n",
    "\n",
    "y_test_new = []\n",
    "for i in y_test:\n",
    "    y_test_new.append(labels.index(i))\n",
    "y_test = y_test_new\n",
    "y_test = tf.keras.utils.to_categorical(y_test)"
   ]
  },
  {
   "cell_type": "code",
   "execution_count": 10,
   "metadata": {
    "execution": {
     "iopub.execute_input": "2021-11-15T06:09:03.497372Z",
     "iopub.status.busy": "2021-11-15T06:09:03.496801Z",
     "iopub.status.idle": "2021-11-15T06:09:04.769478Z",
     "shell.execute_reply": "2021-11-15T06:09:04.768393Z",
     "shell.execute_reply.started": "2021-11-15T06:09:03.497315Z"
    }
   },
   "outputs": [],
   "source": [
    "import warnings\n",
    "filterwarnings('ignore')\n",
    "\n",
    "mobilenet = tf.keras.applications.mobilenet_v2.MobileNetV2(weights='imagenet', include_top=False,input_shape=(image_size,image_size,3))"
   ]
  },
  {
   "cell_type": "code",
   "execution_count": 11,
   "metadata": {
    "execution": {
     "iopub.execute_input": "2021-11-15T06:09:04.773071Z",
     "iopub.status.busy": "2021-11-15T06:09:04.772850Z",
     "iopub.status.idle": "2021-11-15T06:09:04.806666Z",
     "shell.execute_reply": "2021-11-15T06:09:04.805940Z",
     "shell.execute_reply.started": "2021-11-15T06:09:04.773046Z"
    }
   },
   "outputs": [],
   "source": [
    "model = mobilenet.output\n",
    "model = tf.keras.layers.GlobalAveragePooling2D()(model)\n",
    "model = tf.keras.layers.Dropout(rate=0.2)(model)\n",
    "model = tf.keras.layers.Dense(4,activation='softmax')(model)\n",
    "model = tf.keras.models.Model(inputs=mobilenet.input, outputs = model)"
   ]
  },
  {
   "cell_type": "code",
   "execution_count": 12,
   "metadata": {
    "collapsed": true,
    "execution": {
     "iopub.execute_input": "2021-11-15T06:09:04.808053Z",
     "iopub.status.busy": "2021-11-15T06:09:04.807815Z",
     "iopub.status.idle": "2021-11-15T06:09:04.892459Z",
     "shell.execute_reply": "2021-11-15T06:09:04.891519Z",
     "shell.execute_reply.started": "2021-11-15T06:09:04.808027Z"
    },
    "jupyter": {
     "outputs_hidden": true
    }
   },
   "outputs": [],
   "source": [
    "model.summary()"
   ]
  },
  {
   "cell_type": "code",
   "execution_count": 13,
   "metadata": {
    "execution": {
     "iopub.execute_input": "2021-11-15T06:09:04.895007Z",
     "iopub.status.busy": "2021-11-15T06:09:04.894611Z",
     "iopub.status.idle": "2021-11-15T06:09:04.914855Z",
     "shell.execute_reply": "2021-11-15T06:09:04.913945Z",
     "shell.execute_reply.started": "2021-11-15T06:09:04.894959Z"
    }
   },
   "outputs": [],
   "source": [
    "model.compile(loss='categorical_crossentropy',optimizer = 'Adam', metrics= ['accuracy'])"
   ]
  },
  {
   "cell_type": "code",
   "execution_count": 14,
   "metadata": {
    "execution": {
     "iopub.execute_input": "2021-11-15T06:09:04.916887Z",
     "iopub.status.busy": "2021-11-15T06:09:04.916523Z",
     "iopub.status.idle": "2021-11-15T06:09:04.924600Z",
     "shell.execute_reply": "2021-11-15T06:09:04.923994Z",
     "shell.execute_reply.started": "2021-11-15T06:09:04.916847Z"
    }
   },
   "outputs": [],
   "source": [
    "tensorboard = TensorBoard(log_dir = 'logs')\n",
    "checkpoint = ModelCheckpoint(\"mobilenetV2.h5\",monitor=\"val_accuracy\",save_best_only=True,mode=\"auto\",verbose=1)\n",
    "reduce_lr = ReduceLROnPlateau(monitor = 'val_accuracy', factor = 0.4, patience = 2, min_delta = 0.001,\n",
    "                              mode='auto',verbose=1)"
   ]
  },
  {
   "cell_type": "code",
   "execution_count": 15,
   "metadata": {
    "execution": {
     "iopub.execute_input": "2021-11-15T06:09:04.925584Z",
     "iopub.status.busy": "2021-11-15T06:09:04.925376Z",
     "iopub.status.idle": "2021-11-15T06:50:17.701218Z",
     "shell.execute_reply": "2021-11-15T06:50:17.700470Z",
     "shell.execute_reply.started": "2021-11-15T06:09:04.925552Z"
    }
   },
   "outputs": [],
   "source": [
    "history = model.fit(X_train,y_train,validation_split=0.1, epochs =25, verbose=1, batch_size=32,\n",
    "                   callbacks=[tensorboard,checkpoint,reduce_lr])"
   ]
  },
  {
   "cell_type": "code",
   "execution_count": 19,
   "metadata": {
    "execution": {
     "iopub.execute_input": "2021-11-15T06:56:03.086788Z",
     "iopub.status.busy": "2021-11-15T06:56:03.086475Z",
     "iopub.status.idle": "2021-11-15T06:56:03.505326Z",
     "shell.execute_reply": "2021-11-15T06:56:03.504469Z",
     "shell.execute_reply.started": "2021-11-15T06:56:03.086758Z"
    }
   },
   "outputs": [],
   "source": [
    "filterwarnings('ignore')\n",
    "\n",
    "epochs = [i for i in range(25)]\n",
    "fig, ax = plt.subplots(1,2,figsize=(14,7))\n",
    "# plt.setp(ax, xticks=[0, 0.1, 0.2, 0.3, 0.4, 0.5, 0.6, 0.7, 0.8, 0.9, 1],\n",
    "#          yticks=[0, 1, 2, 3, 4, 5, 6, 7, 8, 9, 10, 11, 12])\n",
    "# plt.sca(ax[0])\n",
    "# plt.xticks(range(13), [0, 1, 2, 3, 4, 5, 6, 7, 8, 9, 10,11,12], color='red')\n",
    "# plt.yticks(range(11), [0, 0.1, 0.2, 0.3, 0.4, 0.5, 0.6, 0.7, 0.8, 0.9,1], color='red')\n",
    "\n",
    "# plt.sca(ax[1])\n",
    "# plt.xticks(range(13), [0, 1, 2, 3, 4, 5, 6, 7, 8, 9, 10,11,12], color='red')\n",
    "# plt.yticks(range(11), [0, 0.1, 0.2, 0.3, 0.4, 0.5, 0.6, 0.7, 0.8, 0.9,1], color='red')\n",
    "plt.sca(ax[0])\n",
    "plt.yticks(np.arange(0, 1.1, 0.1))\n",
    "\n",
    "train_acc = history.history['accuracy']\n",
    "train_loss = history.history['loss']\n",
    "val_acc = history.history['val_accuracy']\n",
    "val_loss = history.history['val_loss']\n",
    "\n",
    "fig.text(s='Epochs vs. Training and Validation Accuracy/Loss',size=18,fontweight='bold',\n",
    "             fontname='monospace',color='black',y=1,x=0.28,alpha=0.8)\n",
    "\n",
    "sns.despine()\n",
    "ax[0].plot(epochs, train_acc, marker='o',markerfacecolor='green',color='green',\n",
    "           label = 'Training Accuracy')\n",
    "ax[0].plot(epochs, val_acc, marker='o',markerfacecolor='red',color='red',\n",
    "           label = 'Validation Accuracy')\n",
    "ax[0].legend(frameon=False)\n",
    "ax[0].set_xlabel('Epochs')\n",
    "ax[0].set_ylabel('Accuracy')\n",
    "\n",
    "# plt.sca(ax[0])\n",
    "# plt.xticks(range(11), [0, 1, 2, 3, 4, 5, 6, 7, 8, 9, 10], color='red')\n",
    "# plt.sca(ax[0])\n",
    "# plt.yticks(range(11), [0, 0.1, 0.2, 0.3, 0.4, 0.5, 0.6, 0.7, 0.8, 0.9,1], color='red')\n",
    "\n",
    "\n",
    "sns.despine()\n",
    "ax[1].plot(epochs, train_loss, marker='o',markerfacecolor=colors_green[2],color=colors_green[3],\n",
    "           label ='Training Loss')\n",
    "ax[1].plot(epochs, val_loss, marker='o',markerfacecolor=colors_red[2],color=colors_red[3],\n",
    "           label = 'Validation Loss')\n",
    "ax[1].legend(frameon=False)\n",
    "ax[1].set_xlabel('Epochs')\n",
    "ax[1].set_ylabel('Training & Validation Loss')\n",
    "\n",
    "fig.show()"
   ]
  },
  {
   "cell_type": "code",
   "execution_count": 24,
   "metadata": {
    "execution": {
     "iopub.execute_input": "2021-11-15T07:00:03.530105Z",
     "iopub.status.busy": "2021-11-15T07:00:03.529811Z",
     "iopub.status.idle": "2021-11-15T07:00:03.538314Z",
     "shell.execute_reply": "2021-11-15T07:00:03.537681Z",
     "shell.execute_reply.started": "2021-11-15T07:00:03.530074Z"
    }
   },
   "outputs": [],
   "source": [
    "history.history"
   ]
  },
  {
   "cell_type": "code",
   "execution_count": 20,
   "metadata": {
    "execution": {
     "iopub.execute_input": "2021-11-15T06:57:39.732605Z",
     "iopub.status.busy": "2021-11-15T06:57:39.732278Z",
     "iopub.status.idle": "2021-11-15T06:57:42.545866Z",
     "shell.execute_reply": "2021-11-15T06:57:42.545018Z",
     "shell.execute_reply.started": "2021-11-15T06:57:39.732574Z"
    }
   },
   "outputs": [],
   "source": [
    "pred = model.predict(X_test)\n",
    "pred = np.argmax(pred,axis=1)\n",
    "y_test_new = np.argmax(y_test,axis=1)"
   ]
  },
  {
   "cell_type": "code",
   "execution_count": 21,
   "metadata": {
    "execution": {
     "iopub.execute_input": "2021-11-15T06:57:46.618901Z",
     "iopub.status.busy": "2021-11-15T06:57:46.618611Z",
     "iopub.status.idle": "2021-11-15T06:57:46.630270Z",
     "shell.execute_reply": "2021-11-15T06:57:46.629378Z",
     "shell.execute_reply.started": "2021-11-15T06:57:46.618872Z"
    }
   },
   "outputs": [],
   "source": [
    "print(classification_report(y_test_new,pred))"
   ]
  },
  {
   "cell_type": "code",
   "execution_count": 22,
   "metadata": {
    "execution": {
     "iopub.execute_input": "2021-11-15T06:57:54.017893Z",
     "iopub.status.busy": "2021-11-15T06:57:54.017264Z",
     "iopub.status.idle": "2021-11-15T06:57:54.331645Z",
     "shell.execute_reply": "2021-11-15T06:57:54.330822Z",
     "shell.execute_reply.started": "2021-11-15T06:57:54.017844Z"
    }
   },
   "outputs": [],
   "source": [
    "fig,ax=plt.subplots(1,1,figsize=(14,7))\n",
    "sns.heatmap(confusion_matrix(y_test_new,pred),ax=ax,xticklabels=labels,yticklabels=labels,annot=True,\n",
    "           cmap=colors_green[::-1],alpha=0.7,linewidths=2,linecolor=colors_dark[3])\n",
    "fig.text(s='Heatmap of the Confusion Matrix',size=18,fontweight='bold',\n",
    "             fontname='monospace',color=colors_dark[1],y=0.92,x=0.28,alpha=0.8)"
   ]
  },
  {
   "cell_type": "code",
   "execution_count": 23,
   "metadata": {
    "execution": {
     "iopub.execute_input": "2021-11-15T06:58:25.811937Z",
     "iopub.status.busy": "2021-11-15T06:58:25.811384Z",
     "iopub.status.idle": "2021-11-15T06:58:25.828578Z",
     "shell.execute_reply": "2021-11-15T06:58:25.827586Z",
     "shell.execute_reply.started": "2021-11-15T06:58:25.811882Z"
    }
   },
   "outputs": [],
   "source": [
    "#Creating empty DataFrame for holding models information\n",
    "cols = ['Type', 'Precision', 'Recall', 'F1 Score', 'Support', 'Accuracy percent']\n",
    "model_results = pd.DataFrame(columns = cols)"
   ]
  },
  {
   "cell_type": "code",
   "execution_count": 25,
   "metadata": {
    "execution": {
     "iopub.execute_input": "2021-11-15T07:04:13.076823Z",
     "iopub.status.busy": "2021-11-15T07:04:13.076493Z",
     "iopub.status.idle": "2021-11-15T07:04:13.117417Z",
     "shell.execute_reply": "2021-11-15T07:04:13.116822Z",
     "shell.execute_reply.started": "2021-11-15T07:04:13.076789Z"
    }
   },
   "outputs": [],
   "source": [
    "model_results.loc[-1] = [\"Glioma Tumor\",   0.94,      0.90,      0.92,        93, 90.32]\n",
    "model_results.index = model_results.index + 1  # shifting index\n",
    "model_results = model_results.sort_index()  # sorting by index\n",
    "model_results"
   ]
  },
  {
   "cell_type": "code",
   "execution_count": 26,
   "metadata": {
    "execution": {
     "iopub.execute_input": "2021-11-15T07:08:27.852554Z",
     "iopub.status.busy": "2021-11-15T07:08:27.852047Z",
     "iopub.status.idle": "2021-11-15T07:08:27.876105Z",
     "shell.execute_reply": "2021-11-15T07:08:27.875495Z",
     "shell.execute_reply.started": "2021-11-15T07:08:27.852506Z"
    }
   },
   "outputs": [],
   "source": [
    "model_results.loc[-1] = [\"No Tumor\", 0.96,      0.98,      0.97,        51, 98.03]\n",
    "model_results.index = model_results.index + 1  # shifting index\n",
    "model_results = model_results.sort_index()  # sorting by index\n",
    "model_results"
   ]
  },
  {
   "cell_type": "code",
   "execution_count": 27,
   "metadata": {
    "execution": {
     "iopub.execute_input": "2021-11-15T07:09:26.507915Z",
     "iopub.status.busy": "2021-11-15T07:09:26.507593Z",
     "iopub.status.idle": "2021-11-15T07:09:26.526951Z",
     "shell.execute_reply": "2021-11-15T07:09:26.526322Z",
     "shell.execute_reply.started": "2021-11-15T07:09:26.507883Z"
    }
   },
   "outputs": [],
   "source": [
    "model_results.loc[-1] = [\"Meningioma Tumor\",  0.92,      0.96,      0.94,        96, 95.83]\n",
    "model_results.index = model_results.index + 1  # shifting index\n",
    "model_results = model_results.sort_index()  # sorting by index\n",
    "model_results"
   ]
  },
  {
   "cell_type": "code",
   "execution_count": 28,
   "metadata": {
    "execution": {
     "iopub.execute_input": "2021-11-15T07:12:17.971836Z",
     "iopub.status.busy": "2021-11-15T07:12:17.971379Z",
     "iopub.status.idle": "2021-11-15T07:12:17.992584Z",
     "shell.execute_reply": "2021-11-15T07:12:17.992007Z",
     "shell.execute_reply.started": "2021-11-15T07:12:17.971802Z"
    }
   },
   "outputs": [],
   "source": [
    "model_results.loc[-1] = [\"Pituitary Tumor\",  1.00,      0.99,      0.99,        87, 98.85]\n",
    "model_results.index = model_results.index + 1  # shifting index\n",
    "model_results = model_results.sort_index()  # sorting by index\n",
    "model_results"
   ]
  },
  {
   "cell_type": "code",
   "execution_count": 29,
   "metadata": {
    "execution": {
     "iopub.execute_input": "2021-11-15T07:12:24.666077Z",
     "iopub.status.busy": "2021-11-15T07:12:24.665645Z",
     "iopub.status.idle": "2021-11-15T07:12:24.680457Z",
     "shell.execute_reply": "2021-11-15T07:12:24.679884Z",
     "shell.execute_reply.started": "2021-11-15T07:12:24.666048Z"
    }
   },
   "outputs": [],
   "source": [
    "model_results.set_index('Type')"
   ]
  },
  {
   "cell_type": "code",
   "execution_count": 30,
   "metadata": {
    "execution": {
     "iopub.execute_input": "2021-11-15T07:16:09.714409Z",
     "iopub.status.busy": "2021-11-15T07:16:09.714083Z",
     "iopub.status.idle": "2021-11-15T07:16:09.723782Z",
     "shell.execute_reply": "2021-11-15T07:16:09.722760Z",
     "shell.execute_reply.started": "2021-11-15T07:16:09.714376Z"
    }
   },
   "outputs": [],
   "source": [
    "def img_pred(upload):\n",
    "    for name, file_info in uploader.value.items():\n",
    "        img = Image.open(io.BytesIO(file_info['content']))\n",
    "    opencvImage = cv2.cvtColor(np.array(img), cv2.COLOR_RGB2BGR)\n",
    "    img = cv2.resize(opencvImage,(150,150))\n",
    "    img = img.reshape(1,150,150,3)\n",
    "    p = model.predict(img)\n",
    "    p = np.argmax(p,axis=1)[0]\n",
    "\n",
    "    if p==0:\n",
    "        p='Glioma Tumor'\n",
    "    elif p==1:\n",
    "        print('The model predicts that there is no tumor')\n",
    "    elif p==2:\n",
    "        p='Meningioma Tumor'\n",
    "    else:\n",
    "        p='Pituitary Tumor'\n",
    "\n",
    "    if p!=1:\n",
    "        print(f'The Model predicts that it is a {p}')"
   ]
  },
  {
   "cell_type": "code",
   "execution_count": 31,
   "metadata": {
    "execution": {
     "iopub.execute_input": "2021-11-15T07:16:52.795662Z",
     "iopub.status.busy": "2021-11-15T07:16:52.795381Z",
     "iopub.status.idle": "2021-11-15T07:16:52.808758Z",
     "shell.execute_reply": "2021-11-15T07:16:52.808181Z",
     "shell.execute_reply.started": "2021-11-15T07:16:52.795634Z"
    }
   },
   "outputs": [],
   "source": [
    "uploader = widgets.FileUpload()\n",
    "display(uploader)"
   ]
  },
  {
   "cell_type": "code",
   "execution_count": 32,
   "metadata": {
    "execution": {
     "iopub.execute_input": "2021-11-15T07:17:16.413209Z",
     "iopub.status.busy": "2021-11-15T07:17:16.412316Z",
     "iopub.status.idle": "2021-11-15T07:17:16.440102Z",
     "shell.execute_reply": "2021-11-15T07:17:16.439361Z",
     "shell.execute_reply.started": "2021-11-15T07:17:16.413171Z"
    }
   },
   "outputs": [],
   "source": [
    "button = widgets.Button(description='Predict')\n",
    "out = widgets.Output()\n",
    "def on_button_clicked(_):\n",
    "    with out:\n",
    "        clear_output()\n",
    "        try:\n",
    "            img_pred(uploader)\n",
    "            \n",
    "        except:\n",
    "            print('No Image Uploaded/Invalid Image File')\n",
    "button.on_click(on_button_clicked)\n",
    "widgets.VBox([button,out])\n"
   ]
  },
  {
   "cell_type": "code",
   "execution_count": null,
   "metadata": {},
   "outputs": [],
   "source": []
  }
 ],
 "metadata": {
  "kernelspec": {
   "display_name": "Python 3",
   "language": "python",
   "name": "python3"
  },
  "language_info": {
   "codemirror_mode": {
    "name": "ipython",
    "version": 3
   },
   "file_extension": ".py",
   "mimetype": "text/x-python",
   "name": "python",
   "nbconvert_exporter": "python",
   "pygments_lexer": "ipython3",
   "version": "3.7.4"
  }
 },
 "nbformat": 4,
 "nbformat_minor": 4
}
